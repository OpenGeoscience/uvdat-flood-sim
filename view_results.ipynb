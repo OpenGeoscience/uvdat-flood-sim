{
 "cells": [
  {
   "cell_type": "code",
   "execution_count": 1,
   "id": "32ca76ca-33a8-40c9-9bd0-19184ad08aa7",
   "metadata": {},
   "outputs": [
    {
     "data": {
      "application/vnd.jupyter.widget-view+json": {
       "model_id": "a61f0dcc2e9e407fab4ca6ff841d0b06",
       "version_major": 2,
       "version_minor": 0
      },
      "text/plain": [
       "VBox(children=(Map(center=[42.3362925, -71.1234285], controls=(ZoomControl(options=['position', 'zoom_in_text'…"
      ]
     },
     "metadata": {},
     "output_type": "display_data"
    }
   ],
   "source": [
    "import large_image\n",
    "\n",
    "src = large_image.open('outputs/flood_simulation.tif')\n",
    "# print(src.getMetadata())\n",
    "\n",
    "src"
   ]
  }
 ],
 "metadata": {
  "kernelspec": {
   "display_name": "Python 3 (ipykernel)",
   "language": "python",
   "name": "python3"
  },
  "language_info": {
   "codemirror_mode": {
    "name": "ipython",
    "version": 3
   },
   "file_extension": ".py",
   "mimetype": "text/x-python",
   "name": "python",
   "nbconvert_exporter": "python",
   "pygments_lexer": "ipython3",
   "version": "3.11.0rc1"
  }
 },
 "nbformat": 4,
 "nbformat_minor": 5
}
